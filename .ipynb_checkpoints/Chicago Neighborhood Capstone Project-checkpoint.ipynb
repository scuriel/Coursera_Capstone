{
 "cells": [
  {
   "cell_type": "markdown",
   "metadata": {},
   "source": [
    "# Chicago Neighborhood Capstone Project"
   ]
  },
  {
   "cell_type": "markdown",
   "metadata": {},
   "source": [
    "### 1. Introduction\n",
    "\n",
    "In a recent bit of good news, a friend was promoted within her company as a director.  The exciting new position requires her to relocate to Chicago, IL within the next few months.  She is ecstatic at the opportunity since she has worked hard to move up in the company but also fortunate to be near family.\n",
    "\n",
    "As a single mother of a 4-year-old, her priority is to find a neighborhood that would be suitable for her and her daughter.  She aims to find a great elementary school as she will start kindergarten in the next couple of years along with activities and events that they both can enjoy."
   ]
  },
  {
   "cell_type": "markdown",
   "metadata": {},
   "source": [
    "### 2. Data\n",
    "\n",
    "The data that will be needed to answer her question will require us to map out the neighborhoods that make up the city.  Once that has been established, we will find information on the top schools and the resources available in those neighborhoods.  After scouring the web for information we have found the following to solve our question.\n",
    "\n",
    "<ol type=\"a\">\n",
    "    <li><b>Chicago Neighborhoods:</b> The JSON file will create polygons of each neighborhood on top of the city map.(<a href=\"https://github.com/jkgiesler/parse-chicago-neighborhoods\" target=\"_blank\">https://github.com/jkgiesler/parse-chicago-neighborhoods</a>)</li>\n",
    "    <li><b>School Ranking:</b> A list of the top 50 schools in Chicago.  The rankings are based on criteria such as Standard Test Score, Student-to-Teacher Ratio, etc. (<a href=\"https://www.schooldigger.com/go/IL/schoolrank.aspx\"  target=\"_blank\">https://www.schooldigger.com/go/IL/schoolrank.aspx</a>)</li>\n",
    "    <li><b>Resources:</b> An API provided by Foursquare will allow us to pull information for the various options that is made available for families such as parks, youth centers, etc. (<a href=\"https://foursquare.com/\"  target=\"_blank\">https://foursquare.com/</a>)</li>\n",
    "    </ol>"
   ]
  },
  {
   "cell_type": "code",
   "execution_count": null,
   "metadata": {},
   "outputs": [],
   "source": []
  }
 ],
 "metadata": {
  "kernelspec": {
   "display_name": "Python 3",
   "language": "python",
   "name": "python3"
  },
  "language_info": {
   "codemirror_mode": {
    "name": "ipython",
    "version": 3
   },
   "file_extension": ".py",
   "mimetype": "text/x-python",
   "name": "python",
   "nbconvert_exporter": "python",
   "pygments_lexer": "ipython3",
   "version": "3.7.1"
  }
 },
 "nbformat": 4,
 "nbformat_minor": 2
}
