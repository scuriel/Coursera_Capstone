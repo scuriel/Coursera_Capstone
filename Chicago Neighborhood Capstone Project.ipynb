{
 "cells": [
  {
   "cell_type": "markdown",
   "metadata": {},
   "source": [
    "# Chicago Neighborhood Capstone Project"
   ]
  },
  {
   "cell_type": "markdown",
   "metadata": {},
   "source": [
    "### 1. Introduction\n",
    "\n",
    "In a recent bit of good news, a friend was promoted within her company as a director.  The exciting new position requires her to relocate to Chicago, IL within the next few months.  She is ecstatic at the opportunity since she has worked hard to move up in the company but also fortunate to be near family.\n",
    "\n",
    "As a single mother of a 4-year-old, her priority is to find a neighborhood that would be suitable for her and her daughter.  She aims to find a great elementary school as she will start kindergarten in the next couple of years along with activities and events that they both can enjoy."
   ]
  },
  {
   "cell_type": "code",
   "execution_count": null,
   "metadata": {},
   "outputs": [],
   "source": []
  }
 ],
 "metadata": {
  "kernelspec": {
   "display_name": "Python 3",
   "language": "python",
   "name": "python3"
  },
  "language_info": {
   "codemirror_mode": {
    "name": "ipython",
    "version": 3
   },
   "file_extension": ".py",
   "mimetype": "text/x-python",
   "name": "python",
   "nbconvert_exporter": "python",
   "pygments_lexer": "ipython3",
   "version": "3.7.1"
  }
 },
 "nbformat": 4,
 "nbformat_minor": 2
}
